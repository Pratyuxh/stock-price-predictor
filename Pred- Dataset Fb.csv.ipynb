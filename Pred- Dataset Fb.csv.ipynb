{
 "cells": [
  {
   "cell_type": "code",
   "execution_count": 5,
   "metadata": {},
   "outputs": [],
   "source": [
    "import pandas as pd\n",
    "import numpy as np\n",
    "import matplotlib.pylab as plt\n",
    "%matplotlib inline\n",
    "from matplotlib.pylab import rcParams\n",
    "rcParams['figure.figsize'] = 15, 6"
   ]
  },
  {
   "cell_type": "code",
   "execution_count": 6,
   "metadata": {},
   "outputs": [],
   "source": [
    "data = pd.read_csv('FB.csv')"
   ]
  },
  {
   "cell_type": "code",
   "execution_count": 8,
   "metadata": {},
   "outputs": [
    {
     "name": "stdout",
     "output_type": "stream",
     "text": [
      "   Unnamed: 0 symbol        date      open      high       low     close  \\\n",
      "0           0     FB  2012-05-18  0.020657  0.021838  0.018921  0.018783   \n",
      "1           1     FB  2012-05-21  0.017945  0.017791  0.016432  0.016720   \n",
      "2           2     FB  2012-05-22  0.016020  0.016301  0.015406  0.015231   \n",
      "3           3     FB  2012-05-23  0.015411  0.015772  0.015615  0.015722   \n",
      "4           4     FB  2012-05-24  0.016187  0.016116  0.015819  0.016228   \n",
      "\n",
      "      volume  adj_close  prev_day_diff  50_day_moving_avg  10_day_volatility  \\\n",
      "0  573576400   0.018783       0.000000          38.230000           0.000000   \n",
      "1  168192700   0.016720      -4.200001          36.129999           2.100000   \n",
      "2  101786600   0.015231      -3.029999          34.419999           3.419999   \n",
      "3   73600000   0.015722       1.000000          33.814999           1.814999   \n",
      "4   50237200   0.016228       1.029999          33.657999           0.628000   \n",
      "\n",
      "   s&p_index_open  s&p_index_high  s&p_index_low  s&p_index_close  \\\n",
      "0     1305.050049     1312.239990    1291.979980      1295.219971   \n",
      "1     1295.729980     1316.390015    1295.729980      1315.989990   \n",
      "2     1316.089966     1328.489990    1310.040039      1316.630005   \n",
      "3     1316.020020     1320.709961    1296.530029      1318.859985   \n",
      "4     1318.719971     1324.140015    1310.500000      1320.680054   \n",
      "\n",
      "   s&p_index_volume  s&p_index_adj_close  \n",
      "0      4.512470e+09          1295.219971  \n",
      "1      3.786750e+09          1315.989990  \n",
      "2      4.123680e+09          1316.630005  \n",
      "3      4.108330e+09          1318.859985  \n",
      "4      3.937670e+09          1320.680054  \n"
     ]
    }
   ],
   "source": [
    "print (data.head())"
   ]
  },
  {
   "cell_type": "code",
   "execution_count": 12,
   "metadata": {},
   "outputs": [
    {
     "name": "stdout",
     "output_type": "stream",
     "text": [
      "Unnamed: 0               int64\n",
      "symbol                  object\n",
      "date                    object\n",
      "open                   float64\n",
      "high                   float64\n",
      "low                    float64\n",
      "close                  float64\n",
      "volume                   int64\n",
      "adj_close              float64\n",
      "prev_day_diff          float64\n",
      "50_day_moving_avg      float64\n",
      "10_day_volatility      float64\n",
      "s&p_index_open         float64\n",
      "s&p_index_high         float64\n",
      "s&p_index_low          float64\n",
      "s&p_index_close        float64\n",
      "s&p_index_volume       float64\n",
      "s&p_index_adj_close    float64\n",
      "dtype: object\n"
     ]
    }
   ],
   "source": [
    "print (data.dtypes)"
   ]
  },
  {
   "cell_type": "code",
   "execution_count": 13,
   "metadata": {},
   "outputs": [],
   "source": [
    "\n",
    "dateparse = lambda dates: pd.datetime.strptime(dates, '%Y-%m-%d')"
   ]
  },
  {
   "cell_type": "code",
   "execution_count": 23,
   "metadata": {},
   "outputs": [
    {
     "name": "stdout",
     "output_type": "stream",
     "text": [
      "   Unnamed: 0 symbol        date      open      high       low     close  \\\n",
      "0           0     FB  2012-05-18  0.020657  0.021838  0.018921  0.018783   \n",
      "1           1     FB  2012-05-21  0.017945  0.017791  0.016432  0.016720   \n",
      "2           2     FB  2012-05-22  0.016020  0.016301  0.015406  0.015231   \n",
      "3           3     FB  2012-05-23  0.015411  0.015772  0.015615  0.015722   \n",
      "4           4     FB  2012-05-24  0.016187  0.016116  0.015819  0.016228   \n",
      "\n",
      "      volume  adj_close  prev_day_diff  50_day_moving_avg  10_day_volatility  \\\n",
      "0  573576400   0.018783       0.000000          38.230000           0.000000   \n",
      "1  168192700   0.016720      -4.200001          36.129999           2.100000   \n",
      "2  101786600   0.015231      -3.029999          34.419999           3.419999   \n",
      "3   73600000   0.015722       1.000000          33.814999           1.814999   \n",
      "4   50237200   0.016228       1.029999          33.657999           0.628000   \n",
      "\n",
      "   s&p_index_open  s&p_index_high  s&p_index_low  s&p_index_close  \\\n",
      "0     1305.050049     1312.239990    1291.979980      1295.219971   \n",
      "1     1295.729980     1316.390015    1295.729980      1315.989990   \n",
      "2     1316.089966     1328.489990    1310.040039      1316.630005   \n",
      "3     1316.020020     1320.709961    1296.530029      1318.859985   \n",
      "4     1318.719971     1324.140015    1310.500000      1320.680054   \n",
      "\n",
      "   s&p_index_volume  s&p_index_adj_close  \n",
      "0      4.512470e+09          1295.219971  \n",
      "1      3.786750e+09          1315.989990  \n",
      "2      4.123680e+09          1316.630005  \n",
      "3      4.108330e+09          1318.859985  \n",
      "4      3.937670e+09          1320.680054  \n"
     ]
    }
   ],
   "source": [
    "print (data.head())"
   ]
  },
  {
   "cell_type": "code",
   "execution_count": 24,
   "metadata": {},
   "outputs": [
    {
     "data": {
      "text/plain": [
       "RangeIndex(start=0, stop=956, step=1)"
      ]
     },
     "execution_count": 24,
     "metadata": {},
     "output_type": "execute_result"
    }
   ],
   "source": [
    "data.index"
   ]
  },
  {
   "cell_type": "code",
   "execution_count": 25,
   "metadata": {},
   "outputs": [],
   "source": [
    "ts = data['adj_close']"
   ]
  },
  {
   "cell_type": "code",
   "execution_count": 26,
   "metadata": {},
   "outputs": [
    {
     "data": {
      "text/plain": [
       "0    0.018783\n",
       "1    0.016720\n",
       "2    0.015231\n",
       "3    0.015722\n",
       "4    0.016228\n",
       "5    0.015678\n",
       "6    0.014170\n",
       "7    0.013850\n",
       "8    0.014543\n",
       "9    0.013619\n",
       "Name: adj_close, dtype: float64"
      ]
     },
     "execution_count": 26,
     "metadata": {},
     "output_type": "execute_result"
    }
   ],
   "source": [
    "ts.head(10)"
   ]
  },
  {
   "cell_type": "code",
   "execution_count": 30,
   "metadata": {},
   "outputs": [
    {
     "data": {
      "text/plain": [
       "[<matplotlib.lines.Line2D at 0x20e37f54128>]"
      ]
     },
     "execution_count": 30,
     "metadata": {},
     "output_type": "execute_result"
    },
    {
     "data": {
      "image/png": "[encoded data removed]",
      "text/plain": [
       "<Figure size 432x288 with 1 Axes>"
      ]
     },
     "metadata": {
      "needs_background": "light"
     },
     "output_type": "display_data"
    }
   ],
   "source": [
    "plt.plot(ts)"
   ]
  },
  {
   "cell_type": "code",
   "execution_count": 33,
   "metadata": {},
   "outputs": [],
   "source": [
    "\n",
    "from statsmodels.tsa.stattools import adfuller\n",
    "\n",
    "def test_stationarity(timeseries):\n",
    "    \n",
    "    rolmean = pd.rolling_mean(timeseries, window=20)\n",
    "    rolstd = pd.rolling_std(timeseries, window=20)\n",
    "\n",
    "    orig = plt.plot(timeseries, color='blue',label='Original')\n",
    "    mean = plt.plot(rolmean, color='red', label='Rolling Mean')\n",
    "    std = plt.plot(rolstd, color='black', label = 'Rolling Std')\n",
    "    plt.legend(loc='best')\n",
    "    plt.title('Rolling Mean & Standard Deviation')\n",
    "    plt.show(block=False)\n",
    "\n",
    "    dftest = adfuller(timeseries, autolag='AIC')\n",
    "    dfoutput = pd.Series(dftest[0:4], index=['open','high','10_day_volatility', '50_day_moving_avg'])\n",
    "    for key, value in dftest[4].items():\n",
    "        dfoutput['Critical Value (%s)'%key] = value\n",
    "    print (dfoutput)"
   ]
  },
  {
   "cell_type": "code",
   "execution_count": 35,
   "metadata": {},
   "outputs": [
    {
     "data": {
      "text/plain": [
       "[<matplotlib.lines.Line2D at 0x20e39d3cb00>]"
      ]
     },
     "execution_count": 35,
     "metadata": {},
     "output_type": "execute_result"
    },
    {
     "data": {
      "image/png": "[encoded data removed]",
      "text/plain": [
       "<Figure size 432x288 with 1 Axes>"
      ]
     },
     "metadata": {
      "needs_background": "light"
     },
     "output_type": "display_data"
    }
   ],
   "source": [
    "ts_log = np.log(ts)\n",
    "plt.plot(ts_log)"
   ]
  },
  {
   "cell_type": "code",
   "execution_count": null,
   "metadata": {},
   "outputs": [],
   "source": []
  }
 ],
 "metadata": {
  "kernelspec": {
   "display_name": "Python 3",
   "language": "python",
   "name": "python3"
  },
  "language_info": {
   "codemirror_mode": {
    "name": "ipython",
    "version": 3
   },
   "file_extension": ".py",
   "mimetype": "text/x-python",
   "name": "python",
   "nbconvert_exporter": "python",
   "pygments_lexer": "ipython3",
   "version": "3.6.7"
  }
 },
 "nbformat": 4,
 "nbformat_minor": 2
}
